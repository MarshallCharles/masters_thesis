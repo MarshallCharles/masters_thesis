{
 "cells": [
  {
   "cell_type": "markdown",
   "metadata": {},
   "source": [
    "# CNN Compression \n",
    "### A very brief notebook with some of my results with pruning neural networks, and the lottery ticket hypothesis."
   ]
  },
  {
   "cell_type": "code",
   "execution_count": 1,
   "metadata": {},
   "outputs": [],
   "source": [
    "import altair as alt\n",
    "import pandas as pd\n",
    "import numpy as np\n",
    "import src.eval \n",
    "from other.plots import compressed_models_results \n",
    "%load_ext autoreload\n",
    "%autoreload 2"
   ]
  },
  {
   "cell_type": "code",
   "execution_count": 2,
   "metadata": {},
   "outputs": [],
   "source": [
    "def line(df,x,y,title='Line'):\n",
    "    return alt.Chart(df,width=300).mark_line(point=True).encode(\n",
    "    x=alt.X('{}:O'.format(x),sort=alt.EncodingSortField(\\\n",
    "    x, order='descending')),y=alt.Y('{}:Q'.format(y),)).properties(title=title).interactive()"
   ]
  },
  {
   "cell_type": "markdown",
   "metadata": {},
   "source": [
    "### The Lottery Ticket Hypothesis: Finding Sparse, Trainable Neural Networks. \n",
    "Jonathan Frankle and Michael Carbin, MIT CASIL. ICLR 2018.\n"
   ]
  },
  {
   "cell_type": "markdown",
   "metadata": {},
   "source": [
    "#### Recent work suggests neural networks are over parameterized. Frankle states that \"dense neural networks have sparse, trainable networks that are equally capable\". Concretely;\n",
    "\n",
    "Take two artificial neural networks: \n",
    "- $f(x:\\theta)$, which achieves accuracy $a$ in $t$ iterations.\n",
    "- $f(x:m \\odot \\theta)$, which achieves accuracy $a^{\\prime}$ in $t^{\\prime}$ iterations.\n",
    "- With $m \\in \\{ 0,1 \\}^{|\\theta|}$\n",
    "\n",
    "$\\implies \\space \\exists m \\space$ s.t $\\space\\space\\space ||m||_{0} \\ll |\\theta|$, $\\space\\space\\space a^{\\prime} \\geq a$, $\\space\\space\\space t^{\\prime} \\leq t$"
   ]
  },
  {
   "cell_type": "code",
   "execution_count": 3,
   "metadata": {},
   "outputs": [],
   "source": [
    "resnets_benign,resnets_adv,mobnets_benign,mobnets_adv = compressed_models_results()"
   ]
  },
  {
   "cell_type": "markdown",
   "metadata": {},
   "source": [
    "### Let's observe this phenomenon with a few CNNs\n",
    "\n",
    "### First ResNet. Has 21,273,600 weights. This network is over-parameterized and can be pruned, but is very weak to slight perturbations. "
   ]
  },
  {
   "cell_type": "code",
   "execution_count": 4,
   "metadata": {},
   "outputs": [
    {
     "data": {
      "text/html": [
       "\n",
       "<div id=\"altair-viz-175cfba6ff8349a7ade08316bddc63b4\"></div>\n",
       "<script type=\"text/javascript\">\n",
       "  (function(spec, embedOpt){\n",
       "    const outputDiv = document.getElementById(\"altair-viz-175cfba6ff8349a7ade08316bddc63b4\");\n",
       "    const paths = {\n",
       "      \"vega\": \"https://cdn.jsdelivr.net/npm//vega@5?noext\",\n",
       "      \"vega-lib\": \"https://cdn.jsdelivr.net/npm//vega-lib?noext\",\n",
       "      \"vega-lite\": \"https://cdn.jsdelivr.net/npm//vega-lite@4.0.2?noext\",\n",
       "      \"vega-embed\": \"https://cdn.jsdelivr.net/npm//vega-embed@6?noext\",\n",
       "    };\n",
       "\n",
       "    function loadScript(lib) {\n",
       "      return new Promise(function(resolve, reject) {\n",
       "        var s = document.createElement('script');\n",
       "        s.src = paths[lib];\n",
       "        s.async = true;\n",
       "        s.onload = () => resolve(paths[lib]);\n",
       "        s.onerror = () => reject(`Error loading script: ${paths[lib]}`);\n",
       "        document.getElementsByTagName(\"head\")[0].appendChild(s);\n",
       "      });\n",
       "    }\n",
       "\n",
       "    function showError(err) {\n",
       "      outputDiv.innerHTML = `<div class=\"error\" style=\"color:red;\">${err}</div>`;\n",
       "      throw err;\n",
       "    }\n",
       "\n",
       "    function displayChart(vegaEmbed) {\n",
       "      vegaEmbed(outputDiv, spec, embedOpt)\n",
       "        .catch(err => showError(`Javascript Error: ${err.message}<br>This usually means there's a typo in your chart specification. See the javascript console for the full traceback.`));\n",
       "    }\n",
       "\n",
       "    if(typeof define === \"function\" && define.amd) {\n",
       "      requirejs.config({paths});\n",
       "      require([\"vega-embed\"], displayChart, err => showError(`Error loading script: ${err.message}`));\n",
       "    } else if (typeof vegaEmbed === \"function\") {\n",
       "      displayChart(vegaEmbed);\n",
       "    } else {\n",
       "      loadScript(\"vega\")\n",
       "        .then(() => loadScript(\"vega-lite\"))\n",
       "        .then(() => loadScript(\"vega-embed\"))\n",
       "        .catch(showError)\n",
       "        .then(() => displayChart(vegaEmbed));\n",
       "    }\n",
       "  })({\"config\": {\"view\": {\"continuousWidth\": 400, \"continuousHeight\": 300}}, \"hconcat\": [{\"data\": {\"name\": \"data-22ba96a4762cce233272b2e5888a1df4\"}, \"mark\": {\"type\": \"line\", \"point\": true}, \"encoding\": {\"x\": {\"type\": \"ordinal\", \"field\": \"Compression Ratio\", \"sort\": {\"field\": \"Compression Ratio\", \"order\": \"descending\"}}, \"y\": {\"type\": \"quantitative\", \"field\": \"Accuracy\"}}, \"selection\": {\"selector001\": {\"type\": \"interval\", \"bind\": \"scales\", \"encodings\": [\"x\", \"y\"]}}, \"title\": \"Resnets\", \"width\": 300}, {\"data\": {\"name\": \"data-deb62a46a0409b2ad8737b60324e9b2b\"}, \"mark\": {\"type\": \"line\", \"point\": true}, \"encoding\": {\"x\": {\"type\": \"ordinal\", \"field\": \"Compression Ratio\", \"sort\": {\"field\": \"Compression Ratio\", \"order\": \"descending\"}}, \"y\": {\"type\": \"quantitative\", \"field\": \"Accuracy\"}}, \"selection\": {\"selector002\": {\"type\": \"interval\", \"bind\": \"scales\", \"encodings\": [\"x\", \"y\"]}}, \"title\": \"Resnets\", \"width\": 300}], \"$schema\": \"https://vega.github.io/schema/vega-lite/v4.0.2.json\", \"datasets\": {\"data-22ba96a4762cce233272b2e5888a1df4\": [{\"Accuracy\": 94, \"Compression Ratio\": 1.0}, {\"Accuracy\": 93, \"Compression Ratio\": 0.1}, {\"Accuracy\": 93, \"Compression Ratio\": 0.01}, {\"Accuracy\": 87, \"Compression Ratio\": 0.001}, {\"Accuracy\": 10, \"Compression Ratio\": 0.0001}], \"data-deb62a46a0409b2ad8737b60324e9b2b\": [{\"Accuracy\": 20, \"Compression Ratio\": 1.0}, {\"Accuracy\": 20, \"Compression Ratio\": 0.1}, {\"Accuracy\": 22, \"Compression Ratio\": 0.01}, {\"Accuracy\": 4, \"Compression Ratio\": 0.001}, {\"Accuracy\": 10, \"Compression Ratio\": 0.0001}]}}, {\"mode\": \"vega-lite\"});\n",
       "</script>"
      ],
      "text/plain": [
       "alt.HConcatChart(...)"
      ]
     },
     "execution_count": 4,
     "metadata": {},
     "output_type": "execute_result"
    }
   ],
   "source": [
    "line(resnets_benign,'Compression Ratio','Accuracy',title='Resnets') | line(resnets_adv,'Compression Ratio','Accuracy',title='Resnets')"
   ]
  },
  {
   "cell_type": "markdown",
   "metadata": {},
   "source": [
    "### Now MobileNet. Has 2,279,368 weights. This network is trained on the same task and is not quite as over parameterized."
   ]
  },
  {
   "cell_type": "code",
   "execution_count": 5,
   "metadata": {},
   "outputs": [
    {
     "data": {
      "text/html": [
       "\n",
       "<div id=\"altair-viz-1ba0681d67ad4e0fb6a7798991c24c4a\"></div>\n",
       "<script type=\"text/javascript\">\n",
       "  (function(spec, embedOpt){\n",
       "    const outputDiv = document.getElementById(\"altair-viz-1ba0681d67ad4e0fb6a7798991c24c4a\");\n",
       "    const paths = {\n",
       "      \"vega\": \"https://cdn.jsdelivr.net/npm//vega@5?noext\",\n",
       "      \"vega-lib\": \"https://cdn.jsdelivr.net/npm//vega-lib?noext\",\n",
       "      \"vega-lite\": \"https://cdn.jsdelivr.net/npm//vega-lite@4.0.2?noext\",\n",
       "      \"vega-embed\": \"https://cdn.jsdelivr.net/npm//vega-embed@6?noext\",\n",
       "    };\n",
       "\n",
       "    function loadScript(lib) {\n",
       "      return new Promise(function(resolve, reject) {\n",
       "        var s = document.createElement('script');\n",
       "        s.src = paths[lib];\n",
       "        s.async = true;\n",
       "        s.onload = () => resolve(paths[lib]);\n",
       "        s.onerror = () => reject(`Error loading script: ${paths[lib]}`);\n",
       "        document.getElementsByTagName(\"head\")[0].appendChild(s);\n",
       "      });\n",
       "    }\n",
       "\n",
       "    function showError(err) {\n",
       "      outputDiv.innerHTML = `<div class=\"error\" style=\"color:red;\">${err}</div>`;\n",
       "      throw err;\n",
       "    }\n",
       "\n",
       "    function displayChart(vegaEmbed) {\n",
       "      vegaEmbed(outputDiv, spec, embedOpt)\n",
       "        .catch(err => showError(`Javascript Error: ${err.message}<br>This usually means there's a typo in your chart specification. See the javascript console for the full traceback.`));\n",
       "    }\n",
       "\n",
       "    if(typeof define === \"function\" && define.amd) {\n",
       "      requirejs.config({paths});\n",
       "      require([\"vega-embed\"], displayChart, err => showError(`Error loading script: ${err.message}`));\n",
       "    } else if (typeof vegaEmbed === \"function\") {\n",
       "      displayChart(vegaEmbed);\n",
       "    } else {\n",
       "      loadScript(\"vega\")\n",
       "        .then(() => loadScript(\"vega-lite\"))\n",
       "        .then(() => loadScript(\"vega-embed\"))\n",
       "        .catch(showError)\n",
       "        .then(() => displayChart(vegaEmbed));\n",
       "    }\n",
       "  })({\"config\": {\"view\": {\"continuousWidth\": 400, \"continuousHeight\": 300}}, \"hconcat\": [{\"data\": {\"name\": \"data-e20dffa88960b5f783094fd9c0f12671\"}, \"mark\": {\"type\": \"line\", \"point\": true}, \"encoding\": {\"x\": {\"type\": \"ordinal\", \"field\": \"Compression Ratio\", \"sort\": {\"field\": \"Compression Ratio\", \"order\": \"descending\"}}, \"y\": {\"type\": \"quantitative\", \"field\": \"Accuracy\"}}, \"selection\": {\"selector003\": {\"type\": \"interval\", \"bind\": \"scales\", \"encodings\": [\"x\", \"y\"]}}, \"title\": \"Mobile Nets Accuracy\", \"width\": 300}, {\"data\": {\"name\": \"data-eb8065d5e1aed044f25802156bded028\"}, \"mark\": {\"type\": \"line\", \"point\": true}, \"encoding\": {\"x\": {\"type\": \"ordinal\", \"field\": \"Compression Ratio\", \"sort\": {\"field\": \"Compression Ratio\", \"order\": \"descending\"}}, \"y\": {\"type\": \"quantitative\", \"field\": \"Accuracy\"}}, \"selection\": {\"selector004\": {\"type\": \"interval\", \"bind\": \"scales\", \"encodings\": [\"x\", \"y\"]}}, \"title\": \"Mobilenets Against Weakest Adversary\", \"width\": 300}], \"$schema\": \"https://vega.github.io/schema/vega-lite/v4.0.2.json\", \"datasets\": {\"data-e20dffa88960b5f783094fd9c0f12671\": [{\"Accuracy\": 93, \"Compression Ratio\": 1.0}, {\"Accuracy\": 92, \"Compression Ratio\": 0.1}, {\"Accuracy\": 10, \"Compression Ratio\": 0.01}], \"data-eb8065d5e1aed044f25802156bded028\": [{\"Accuracy\": 20, \"Compression Ratio\": 1.0}, {\"Accuracy\": 19, \"Compression Ratio\": 0.1}, {\"Accuracy\": 10, \"Compression Ratio\": 0.01}]}}, {\"mode\": \"vega-lite\"});\n",
       "</script>"
      ],
      "text/plain": [
       "alt.HConcatChart(...)"
      ]
     },
     "execution_count": 5,
     "metadata": {},
     "output_type": "execute_result"
    }
   ],
   "source": [
    "line(mobnets_benign,'Compression Ratio','Accuracy',title='Mobile Nets Accuracy') | line(mobnets_adv,'Compression Ratio','Accuracy',title='Mobilenets Against Weakest Adversary')"
   ]
  },
  {
   "cell_type": "markdown",
   "metadata": {},
   "source": [
    "### In the context of an orchestrator, a client comes in with (or without) a model. They have a use case in mind they know the security risks and performance needs for that use case (at least somewhat)\n",
    "\n",
    "#### They may want to know one of two things:\n",
    "1. On which hardware should I run such a model?\n",
    "2. How can I optimize this model"
   ]
  },
  {
   "cell_type": "markdown",
   "metadata": {},
   "source": [
    "#### Rumor has it the lottety ticket hypothesis does not stand when we add robustness to the recipe...\n",
    "* A model adversarially trained and pruned from scratch converges to a saddle point in $\\frac{1}{3}$ of the training iterations.\n",
    "* That is, $\\displaystyle\\min_{\\theta} \\mathbb{E}_{x,y\\sim \\hat{\\mathcal{D}}}\\left[\\max_{\\delta \\in \\Delta} \\mathcal{L}(\\theta;x+\\delta,y) \\right]$ reaches a saddle point, or nash equilibrium early, and to a poor optima.\n",
    "* Accuracy is stuck around 53% for benign data, and 28% for adversarial tests\n",
    "\n",
    "\n",
    "\n",
    "#### My research from here on out will focus on:\n",
    "1. Discovering what guarantees can be made for models whose use case is time, and security sensitive. \n",
    "2. Developping new tests for these models, including a more robust elbow test.\n",
    "3. Making the algorithmic link between hardware and model"
   ]
  },
  {
   "cell_type": "markdown",
   "metadata": {},
   "source": [
    "## Getting More Technical"
   ]
  },
  {
   "cell_type": "code",
   "execution_count": 6,
   "metadata": {},
   "outputs": [
    {
     "name": "stdout",
     "output_type": "stream",
     "text": [
      "Files already downloaded and verified\n"
     ]
    }
   ],
   "source": [
    "from src.imaging import Model_Interpreter \n",
    "import torch\n",
    "MI = Model_Interpreter()\n",
    "MI.load_data(dataset='cifar10')\n",
    "test_data = iter(MI.data)"
   ]
  },
  {
   "cell_type": "code",
   "execution_count": 7,
   "metadata": {},
   "outputs": [],
   "source": [
    "dense_resnet = MI.load_model('models/cifar10_models/resnet_dense1.pth','resnet')\n",
    "pruned1_resnet = MI.load_model('models/cifar10_models/resnet_1pruned.pth','resnet')\n",
    "pruned01_resnet = MI.load_model('models/cifar10_models/resnet_01pruned.pth','resnet')\n",
    "dense_mobnet = MI.load_model('models/cifar10_models/mobilenet_dense.pth','mobilenet')\n",
    "pruned1_mobnet = MI.load_model('models/cifar10_models/mobilenet_1pruned.pth','mobilenet')\n",
    "\n",
    "# def time_n_examples(obj,mod,data,n):\n",
    "#     t = 0\n",
    "#     for _ in range(n):\n",
    "#         tns,lab = next(data)\n",
    "#         t += obj.predict(mod,tns,lab,ret='timed')\n",
    "#     return t/n\n",
    "\n",
    "# def remove_filters(mod):\n",
    "#     ranks = {}\n",
    "#     for k, v in mod.named_parameters():\n",
    "#         if k.strip().split('.')[-1]=='weight':\n",
    "#             ranks[k] = list(torch.nonzero(v).shape)[0]/torch.numel(v)\n",
    "#     for k,v in ranks.items():\n",
    "#         if v < 0.1:\n",
    "#             if k[:5]=='layer':\n",
    "#                 if 'shortcut' in k: continue\n",
    "#                 indx = k[7]\n",
    "#                 exec('mod.{}[{}].{}.data=torch.tensor([[0],[0],[0]])'.format(k[:6],indx,k[9:]))\n",
    "#             else:\n",
    "#                 exec('mod.{}.data=torch.tensor([0],[0],[0]])'.format(k))\n",
    "                    \n",
    "    \n",
    "    #     if 'the_name_of_the_conv_you_want_to_zero_out' in key:\n",
    "    #         value.data[0, 1, 22] = 0"
   ]
  },
  {
   "cell_type": "code",
   "execution_count": 8,
   "metadata": {},
   "outputs": [],
   "source": [
    "# print(time_n_examples(MI,pruned01_resnet,test_data,100))\n",
    "# print(time_n_examples(MI,dense_resnet,test_data,100))\n",
    "# remove_filters(pruned01_resnet)\n",
    "# print(time_n_examples(MI,pruned01_resnet,test_data,100))"
   ]
  },
  {
   "cell_type": "code",
   "execution_count": 9,
   "metadata": {},
   "outputs": [],
   "source": [
    "# MI.load_data(dataset='cifar10',batch_size=128)"
   ]
  },
  {
   "cell_type": "code",
   "execution_count": null,
   "metadata": {},
   "outputs": [],
   "source": []
  },
  {
   "cell_type": "code",
   "execution_count": 10,
   "metadata": {},
   "outputs": [
    {
     "name": "stdout",
     "output_type": "stream",
     "text": [
      "pruning rate of layer 32 is 1.0, pruned FLOP is 68861952, baseline FLOP is 68861952, FLOP reduction rate is 0.0000\n",
      "pruning rate of layer 32 is 0.1, pruned FLOP is 3488809, baseline FLOP is 68861952, FLOP reduction rate is 0.9493\n",
      "pruning rate of layer 32 is 0.0, pruned FLOP is 314907, baseline FLOP is 68861952, FLOP reduction rate is 0.9954\n"
     ]
    }
   ],
   "source": [
    "def cifar_resnet_flop(layer=110, prune_rate=1):\n",
    "    '''\n",
    "    :param layer: the layer of Resnet for Cifar, including 110, 56, 32, 20\n",
    "    :param prune_rate: 1 means baseline\n",
    "    :return: flop of the network\n",
    "    '''\n",
    "    flop = 0\n",
    "    channel = [16, 32, 64]\n",
    "    width = [32, 16, 8]\n",
    "\n",
    "    stage = int(layer / 3)\n",
    "    for index in range(0, layer, 1):\n",
    "        if index == 0:  # first conv layer before block\n",
    "            flop += channel[0] * width[0] * width[0] * 9 * 3 * prune_rate\n",
    "        elif index in [1, 2]:  # first block of first stage\n",
    "            flop += channel[0] * width[0] * width[0] * 9 * channel[0] * (prune_rate ** 2)\n",
    "        elif 2 < index <= stage:  # other blocks of first stage\n",
    "            if index % 2 != 0:\n",
    "                # first layer of block, only output channal reduced, input channel remain the same\n",
    "                flop += channel[0] * width[0] * width[0] * 9 * channel[0] * (prune_rate)\n",
    "            elif index % 2 == 0:\n",
    "                # second layer of block, both input and output channal reduced\n",
    "                flop += channel[0] * width[0] * width[0] * 9 * channel[0] * (prune_rate ** 2)\n",
    "        elif stage < index <= stage * 2:  # second stage\n",
    "            if index % 2 != 0:\n",
    "                flop += channel[1] * width[1] * width[1] * 9 * channel[1] * (prune_rate)\n",
    "            elif index % 2 == 0:\n",
    "                flop += channel[1] * width[1] * width[1] * 9 * channel[1] * (prune_rate ** 2)\n",
    "        elif stage * 2 < index <= stage * 3:  # third stage\n",
    "            if index % 2 != 0:\n",
    "                flop += channel[2] * width[2] * width[2] * 9 * channel[2] * (prune_rate)\n",
    "            elif index % 2 == 0:\n",
    "                flop += channel[2] * width[2] * width[2] * 9 * channel[2] * (prune_rate ** 2)\n",
    "\n",
    "    # offset for dimension change between blocks\n",
    "    offset1 = channel[1] * width[1] * width[1] * 9 * channel[1] * prune_rate - channel[1] * width[1] * width[1] * 9 * \\\n",
    "              channel[0] * prune_rate\n",
    "    offset2 = channel[2] * width[2] * width[2] * 9 * channel[2] * prune_rate - channel[2] * width[2] * width[2] * 9 * \\\n",
    "              channel[1] * prune_rate\n",
    "    flop = flop - offset1 - offset2\n",
    "    # print(flop)\n",
    "    return flop\n",
    "\n",
    "\n",
    "def cal_cifar_resnet_flop(layer, prune_rate):\n",
    "    '''\n",
    "    :param layer:  the layer of Resnet for Cifar, including 56, 32\n",
    "    :param prune_rate: 1 means baseline\n",
    "    :return:\n",
    "    '''\n",
    "    pruned_flop = cifar_resnet_flop(layer, prune_rate)\n",
    "    baseline_flop = cifar_resnet_flop(layer, 1)\n",
    "\n",
    "    print(\n",
    "        \"pruning rate of layer {:d} is {:.1f}, pruned FLOP is {:.0f}, \"\n",
    "        \"baseline FLOP is {:.0f}, FLOP reduction rate is {:.4f}\"\n",
    "        .format(layer, prune_rate, pruned_flop, baseline_flop, 1 - pruned_flop / baseline_flop))\n",
    "\n",
    "\n",
    "\n",
    "pruning_rate_list = [1, 0.1, 0.01]\n",
    "for pruning_rate in pruning_rate_list:\n",
    "    cal_cifar_resnet_flop(32, pruning_rate)"
   ]
  },
  {
   "cell_type": "code",
   "execution_count": 11,
   "metadata": {},
   "outputs": [
    {
     "data": {
      "text/plain": [
       "0.004573018784015882"
      ]
     },
     "execution_count": 11,
     "metadata": {},
     "output_type": "execute_result"
    }
   ],
   "source": [
    "# 3488809/68861952\n",
    "314907/68861952"
   ]
  },
  {
   "cell_type": "markdown",
   "metadata": {},
   "source": [
    "### Now a look at the distribution of weights in different networks"
   ]
  },
  {
   "cell_type": "code",
   "execution_count": 5,
   "metadata": {},
   "outputs": [
    {
     "name": "stdout",
     "output_type": "stream",
     "text": [
      "The autoreload extension is already loaded. To reload it, use:\n",
      "  %reload_ext autoreload\n"
     ]
    }
   ],
   "source": [
    "import src.weigh_prune as wp\n",
    "import numpy as np\n",
    "#Reloading earlier modules\n",
    "from src.imaging import Model_Interpreter \n",
    "import torch\n",
    "%load_ext autoreload\n",
    "%autoreload 2"
   ]
  },
  {
   "cell_type": "code",
   "execution_count": 26,
   "metadata": {},
   "outputs": [
    {
     "name": "stdout",
     "output_type": "stream",
     "text": [
      "Files already downloaded and verified\n"
     ]
    }
   ],
   "source": [
    "MI = Model_Interpreter()\n",
    "MI.load_data(dataset='cifar10')\n",
    "test_data = iter(MI.data)\n",
    "# And now some models\n",
    "dense_resnet = MI.load_model('models/cifar10_models/resnet_dense1.pth','resnet')\n",
    "pruned1_resnet = MI.load_model('models/cifar10_models/resnet_1pruned.pth','resnet')\n",
    "pruned01_resnet = MI.load_model('models/cifar10_models/resnet_01pruned.pth','resnet')\n",
    "dense_mobnet = MI.load_model('models/cifar10_models/mobilenet_dense.pth','mobilenet')\n",
    "pruned1_mobnet = MI.load_model('models/cifar10_models/mobilenet_1pruned.pth','mobilenet')\n",
    "resnet_pgd = MI.load_model('models/cifar10_models/resnet_pgd.pth','resnet')"
   ]
  },
  {
   "cell_type": "code",
   "execution_count": 71,
   "metadata": {},
   "outputs": [],
   "source": [
    "from matplotlib import pyplot as plt\n",
    "\n",
    "def hist_panel(*args,titles = [' ',' ',' ',' ']):\n",
    "    fig, axes = plt.subplots(1, len(args), figsize=(16,6), sharex=True, sharey=True)\n",
    "    colors = ['r','g','b','k','w']\n",
    "    params = dict(alpha=0.3, bins=250,density=True,range=[-.15,.15])\n",
    "    for i, (ax, cut) in enumerate(zip(axes, args)):\n",
    "        if len(args[i])>1:\n",
    "            for j in range(len(args[i])):\n",
    "                if type(args[i][j])==str:\n",
    "                    continue\n",
    "                lab = args[i][j+1] if type(args[i][j+1])==str else ' '\n",
    "                ax.hist(args[i][j], **params, label=lab, color=colors[j])\n",
    "        else:\n",
    "            ax.hist(args[i], **params, label=str(i), color=colors[1])\n",
    "        ax.set_title(titles[i])\n",
    "        ax.legend()\n",
    "    plt.suptitle('Distribution of Weights in CNNs', y=1.05, size=16)\n",
    "\n",
    "d = lambda x: wp.model_weight_distribution(x)\n",
    "res1,res2,mob1,mob2 = d(dense_resnet),d(pruned1_resnet),d(dense_mobnet),d(pruned1_mobnet)"
   ]
  },
  {
   "cell_type": "code",
   "execution_count": 72,
   "metadata": {},
   "outputs": [
    {
     "data": {
      "image/png": "[encoded data removed]",
      "text/plain": [
       "<Figure size 1152x432 with 2 Axes>"
      ]
     },
     "metadata": {
      "needs_background": "light"
     },
     "output_type": "display_data"
    }
   ],
   "source": [
    "respgd = d(resnet_pgd)\n",
    "# hist_panel([res1,'Dense',respgd,'pgd'],\\\n",
    "#            [mob1,'Dense',mob2,'10%'],\\\n",
    "#            titles = ['Resnet','Mobilenet']\n",
    "#           )\n",
    "hist_panel([res1,'Dense',respgd,'pgd'],\n",
    "           [res1,'Dense',respgd,'pgd'],\\\n",
    "           titles = ['Resnet','Mobilenet']\n",
    "          )"
   ]
  },
  {
   "cell_type": "code",
   "execution_count": null,
   "metadata": {},
   "outputs": [],
   "source": []
  },
  {
   "cell_type": "code",
   "execution_count": null,
   "metadata": {},
   "outputs": [],
   "source": []
  },
  {
   "cell_type": "code",
   "execution_count": null,
   "metadata": {},
   "outputs": [],
   "source": []
  },
  {
   "cell_type": "code",
   "execution_count": null,
   "metadata": {},
   "outputs": [],
   "source": []
  },
  {
   "cell_type": "code",
   "execution_count": null,
   "metadata": {},
   "outputs": [],
   "source": []
  }
 ],
 "metadata": {
  "kernelspec": {
   "display_name": "Python 3",
   "language": "python",
   "name": "python3"
  },
  "language_info": {
   "codemirror_mode": {
    "name": "ipython",
    "version": 3
   },
   "file_extension": ".py",
   "mimetype": "text/x-python",
   "name": "python",
   "nbconvert_exporter": "python",
   "pygments_lexer": "ipython3",
   "version": "3.8.1"
  }
 },
 "nbformat": 4,
 "nbformat_minor": 4
}
